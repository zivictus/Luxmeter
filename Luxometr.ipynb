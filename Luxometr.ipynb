{
 "cells": [
  {
   "cell_type": "code",
   "execution_count": 2,
   "outputs": [],
   "source": [
    "import cv\n",
    "import cv2\n",
    "import time\n",
    "import numpy as np\n",
    "import numpy.ma as ma\n",
    "import statistics"
   ],
   "metadata": {
    "collapsed": false,
    "pycharm": {
     "name": "#%%\n"
    }
   }
  },
  {
   "cell_type": "code",
   "execution_count": 3,
   "outputs": [],
   "source": [
    "#Настройка и получение начальных параметров с камеры\n",
    "def SetupCam():\n",
    "    cam = cv2.VideoCapture(0)\n",
    "    cam.set(cv2.CAP_PROP_EXPOSURE, -2)\n",
    "\n",
    "    return  cam"
   ],
   "metadata": {
    "collapsed": false,
    "pycharm": {
     "name": "#%%\n"
    }
   }
  },
  {
   "cell_type": "code",
   "execution_count": 4,
   "outputs": [],
   "source": [
    "def GetExposureTriangle(cam):\n",
    "    #Получение кадра\n",
    "    ret, frame = cam.read()\n",
    "\n",
    "    #Получение прараметров\n",
    "    exposureTime = cam.get(cv2.CAP_PROP_EXPOSURE)\n",
    "    iSO = cam.get(cv2.CAP_PROP_ISO_SPEED)\n",
    "    aperture = cam.get(cv2.CAP_PROP_APERTURE)\n",
    "\n",
    "    return  ret, frame, exposureTime, iSO, aperture"
   ],
   "metadata": {
    "collapsed": false,
    "pycharm": {
     "name": "#%%\n"
    }
   }
  },
  {
   "cell_type": "code",
   "execution_count": null,
   "outputs": [],
   "source": [
    "def"
   ],
   "metadata": {
    "collapsed": false,
    "pycharm": {
     "name": "#%%\n"
    }
   }
  },
  {
   "cell_type": "code",
   "execution_count": 5,
   "outputs": [],
   "source": [
    "def GetLightFactor(frame, background, objects):\n",
    "\n",
    "    #Использование задника и послдовательных кадров\n",
    "    #Для получения всех контуров изменений\n",
    "    fg_mask = background.apply(frame)\n",
    "    fg_mask = cv2.medianBlur(fg_mask, 5)\n",
    "    _, fg_mask = cv2.threshold(fg_mask,127,255,cv2.THRESH_BINARY)\n",
    "\n",
    "    fg_mask_bb = fg_mask\n",
    "    contours, hierarchy = cv2.findContours(fg_mask_bb,cv2.RETR_TREE,cv2.CHAIN_APPROX_SIMPLE)[-2:]\n",
    "    areas = [cv2.contourArea(c) for c in contours]\n",
    "\n",
    "    #Отобразить крупнейшие изменения в колличестве objects\n",
    "    max_indexs = np.argsort(areas)[-objects:]\n",
    "\n",
    "    for index in max_indexs:\n",
    "        cv2.drawContours(frame,contours,index,(0,255,0),3)\n",
    "        x,y,w,h = cv2.boundingRect(contours[index])\n",
    "        cv2.rectangle(frame,(x,y),(x+w,y+h),(0,255,0),3)\n",
    "\n",
    "        #Маска движущегося объекта накладываемая на световой канал\n",
    "        mask = np.zeros(lChannel.shape,dtype=bool)\n",
    "        mask[y:y+h, x:x+w] = True\n",
    "        maskedLChannel = ma.masked_array(lChannel, mask)\n",
    "\n",
    "\n",
    "    #возвращаем среднее арифметическое канала яркости\n",
    "    return np.mean(lChannel)"
   ],
   "metadata": {
    "collapsed": false,
    "pycharm": {
     "name": "#%%\n"
    }
   }
  },
  {
   "cell_type": "code",
   "execution_count": 52,
   "outputs": [],
   "source": [
    "def show_webcam(mirror=True):\n",
    "\n",
    "    #Начать видеозахват с параметрами\n",
    "    cam = cv2.VideoCapture(0)\n",
    "    cam.set(cv2.CAP_PROP_EXPOSURE, -4)\n",
    "\n",
    "    #Установка задника для поиска движения\n",
    "    back_sub = cv2.createBackgroundSubtractorMOG2(history=700,\n",
    "        varThreshold=25, detectShadows=True)\n",
    "\n",
    "\n",
    "    # Определение свойств текста на экране\n",
    "    font = cv2.FONT_HERSHEY_SIMPLEX\n",
    "    fontScale = 0.5\n",
    "    fontColor = (0, 255, 0)\n",
    "    lineType = 2\n",
    "\n",
    "    #Основной цикл работы с кадрами\n",
    "    while True:\n",
    "        #Получение кадра\n",
    "        ret, frame = cam.read()\n",
    "\n",
    "        exposure = 0.04\n",
    "        iso = 214\n",
    "        aperture = 2\n",
    "\n",
    "        #Отзеркаливание для удобства\n",
    "        if mirror:\n",
    "            frame = cv2.flip(frame, 1)\n",
    "\n",
    "        imgHls = cv2.cvtColor(frame, cv2.COLOR_BGR2HLS )\n",
    "        lChannel = imgHls[:,:,1]\n",
    "\n",
    "        #Наложение задника и трешхолда для маски\n",
    "        fg_mask = back_sub.apply(frame)\n",
    "        fg_mask = cv2.medianBlur(fg_mask, 5)\n",
    "        _, fg_mask = cv2.threshold(fg_mask,127,255,cv2.THRESH_BINARY)\n",
    "\n",
    "        #Поиск всех изменений в кадре\n",
    "        fg_mask_bb = fg_mask\n",
    "        contours, hierarchy = cv2.findContours(fg_mask_bb,cv2.RETR_TREE,cv2.CHAIN_APPROX_SIMPLE)[-2:]\n",
    "        areas = [cv2.contourArea(c) for c in contours]\n",
    "\n",
    "        #Если изменений не обнаружено отображать кадр как есть\n",
    "        if len(areas) < 1:\n",
    "\n",
    "            if cv2.waitKey(1) & 0xFF == ord('q'):\n",
    "                break\n",
    "            continue\n",
    "\n",
    "        #Отобразить крупнейшее изменение\n",
    "        max_index = np.argsort(areas)[-2:]\n",
    "\n",
    "        for index in max_index:\n",
    "            cv2.drawContours(frame,contours,index,(0,255,0),3)\n",
    "            x,y,w,h = cv2.boundingRect(contours[index])\n",
    "            cv2.rectangle(frame,(x,y),(x+w,y+h),(0,255,0),3)\n",
    "\n",
    "            #Маска движущегося объекта накладываемая на световой канал\n",
    "            mask = np.zeros(lChannel.shape,dtype=bool)\n",
    "            mask[y:y+h, x:x+w] = True\n",
    "            maskedLChannel = ma.masked_array(lChannel, mask)\n",
    "\n",
    "        #Расчет освещенности\n",
    "        Lux = (np.mean(maskedLChannel)*(aperture**2))/(exposure*iso)\n",
    "\n",
    "        #Вывести на экран значение освещенности\n",
    "        cv2.putText(\n",
    "            frame,\n",
    "            str(Lux),\n",
    "            (10,300),\n",
    "            font,\n",
    "            fontScale,\n",
    "            fontColor,\n",
    "            lineType)\n",
    "\n",
    "        cv2.imshow('my webcam', frame)\n",
    "        if cv2.waitKey(1) == 27:\n",
    "            break\n",
    "    cam.release ()\n",
    "    cv2.destroyAllWindows()\n",
    "\n",
    "    return  Lux"
   ],
   "metadata": {
    "collapsed": false,
    "pycharm": {
     "name": "#%%\n"
    }
   }
  },
  {
   "cell_type": "code",
   "execution_count": 53,
   "outputs": [],
   "source": [
    "Lux = show_webcam(mirror=True)"
   ],
   "metadata": {
    "collapsed": false,
    "pycharm": {
     "name": "#%%\n"
    }
   }
  },
  {
   "cell_type": "code",
   "execution_count": null,
   "outputs": [],
   "source": [],
   "metadata": {
    "collapsed": false,
    "pycharm": {
     "name": "#%%\n"
    }
   }
  }
 ],
 "metadata": {
  "kernelspec": {
   "display_name": "Python 3",
   "language": "python",
   "name": "python3"
  },
  "language_info": {
   "codemirror_mode": {
    "name": "ipython",
    "version": 2
   },
   "file_extension": ".py",
   "mimetype": "text/x-python",
   "name": "python",
   "nbconvert_exporter": "python",
   "pygments_lexer": "ipython2",
   "version": "2.7.6"
  }
 },
 "nbformat": 4,
 "nbformat_minor": 0
}